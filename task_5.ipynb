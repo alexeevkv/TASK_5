{
 "cells": [
  {
   "cell_type": "markdown",
   "metadata": {},
   "source": [
    "# Задание 1"
   ]
  },
  {
   "cell_type": "markdown",
   "metadata": {},
   "source": [
    "1. Загрузить, посмотреть, определить количество строк и объединить 3 датасета: marketing_campaign.csv, users.csv и subscribers.csv.\n",
    "1. Определить типы и статистики колонок.\n",
    "1. Определить эффективность маркетинговых каналов по привлечению платящих игроков.\n",
    "1. Определить количество игроков в каждой возрастной группе.\n",
    "1. Определить самую раннюю дату подписки на сервис.\n",
    "1. Определить портрет аудитории удержанных подписчиков (по возрасту и языку).\n",
    "1. Проверить гипотезу о том, в каком варианте теста (control/personalization) больше конверсия (converted) и значимо ли это отличие статистически."
   ]
  },
  {
   "cell_type": "code",
   "execution_count": 23,
   "metadata": {},
   "outputs": [],
   "source": [
    "import numpy as np\n",
    "import pandas as pd\n",
    "import matplotlib.pyplot as plt\n",
    "from scipy.optimize import linprog, curve_fit"
   ]
  },
  {
   "cell_type": "markdown",
   "metadata": {},
   "source": [
    "## Загрузить, посмотреть, определить количество строк и объединить 3 датасета: marketing_campaign.csv, users.csv и subscribers.csv."
   ]
  },
  {
   "cell_type": "code",
   "execution_count": 2,
   "metadata": {},
   "outputs": [],
   "source": [
    "marketing_campaign = pd.read_csv('./marketing_campaign.csv')\n",
    "subscribers = pd.read_csv('./subscribers.csv')\n",
    "users = pd.read_csv('./users.csv')"
   ]
  },
  {
   "cell_type": "code",
   "execution_count": 3,
   "metadata": {},
   "outputs": [
    {
     "data": {
      "text/plain": [
       "10037"
      ]
     },
     "execution_count": 3,
     "metadata": {},
     "output_type": "execute_result"
    }
   ],
   "source": [
    "marketing_campaign.shape[0]"
   ]
  },
  {
   "cell_type": "code",
   "execution_count": 4,
   "metadata": {},
   "outputs": [
    {
     "data": {
      "text/plain": [
       "True"
      ]
     },
     "execution_count": 4,
     "metadata": {},
     "output_type": "execute_result"
    }
   ],
   "source": [
    "marketing_campaign.shape[0] == users.shape[0] == subscribers.shape[0]"
   ]
  },
  {
   "cell_type": "markdown",
   "metadata": {},
   "source": [
    "**Описание датасета**\n",
    "\n",
    "1) `user_id`: идентификатор пользователя\n",
    "\n",
    "2) `date_served`: дата события\n",
    "\n",
    "3) `marketing_channel`: рекламный канал\n",
    "\n",
    "4) `variant`: показанный вариант рекламы\n",
    "\n",
    "5) `converted`: конверсия в покупку, 1 - пользователь совершил покупку, 0 - нет\n",
    "\n",
    "6) `language_displayed`: язык рекламного сообщения\n",
    "\n",
    "7) `language_preferred`: предпочитаемый пользователем язык\n",
    "\n",
    "8) `age_group`: возрастная группа пользователя\n",
    "\n",
    "9) `date_subscribed`: дата подписки на сервис\n",
    "\n",
    "10) `date_canceled`: дата отказа от подписки\n",
    "\n",
    "11) `subscribing_channel`: с какого рекламного канал пришел пользователь, когда подписался на сервис\n",
    "\n",
    "12) `is_retained`: удержание, 1 - пользователь продолжает пользоваться услугами сервиса, 0 - пользователь отвалился \n",
    "\n",
    "Источник: https://www.kaggle.com/kavitabhagwani/marketing-campaign"
   ]
  },
  {
   "cell_type": "code",
   "execution_count": 5,
   "metadata": {},
   "outputs": [],
   "source": [
    "dataset = pd.concat([marketing_campaign.set_index('user_id'),\n",
    "                     subscribers.set_index('user_id'),\n",
    "                     users.set_index('user_id')], \n",
    "                    axis=1)"
   ]
  },
  {
   "cell_type": "code",
   "execution_count": 6,
   "metadata": {},
   "outputs": [
    {
     "data": {
      "text/html": [
       "<div>\n",
       "<style scoped>\n",
       "    .dataframe tbody tr th:only-of-type {\n",
       "        vertical-align: middle;\n",
       "    }\n",
       "\n",
       "    .dataframe tbody tr th {\n",
       "        vertical-align: top;\n",
       "    }\n",
       "\n",
       "    .dataframe thead th {\n",
       "        text-align: right;\n",
       "    }\n",
       "</style>\n",
       "<table border=\"1\" class=\"dataframe\">\n",
       "  <thead>\n",
       "    <tr style=\"text-align: right;\">\n",
       "      <th></th>\n",
       "      <th>date_served</th>\n",
       "      <th>marketing_channel</th>\n",
       "      <th>variant</th>\n",
       "      <th>language_displayed</th>\n",
       "      <th>converted</th>\n",
       "      <th>subscribing_channel</th>\n",
       "      <th>date_subscribed</th>\n",
       "      <th>date_canceled</th>\n",
       "      <th>is_retained</th>\n",
       "      <th>age_group</th>\n",
       "      <th>language_preferred</th>\n",
       "    </tr>\n",
       "    <tr>\n",
       "      <th>user_id</th>\n",
       "      <th></th>\n",
       "      <th></th>\n",
       "      <th></th>\n",
       "      <th></th>\n",
       "      <th></th>\n",
       "      <th></th>\n",
       "      <th></th>\n",
       "      <th></th>\n",
       "      <th></th>\n",
       "      <th></th>\n",
       "      <th></th>\n",
       "    </tr>\n",
       "  </thead>\n",
       "  <tbody>\n",
       "    <tr>\n",
       "      <th>a1000</th>\n",
       "      <td>1/1/18</td>\n",
       "      <td>House Ads</td>\n",
       "      <td>personalization</td>\n",
       "      <td>English</td>\n",
       "      <td>True</td>\n",
       "      <td>House Ads</td>\n",
       "      <td>1/1/18</td>\n",
       "      <td>NaN</td>\n",
       "      <td>True</td>\n",
       "      <td>0-18 years</td>\n",
       "      <td>English</td>\n",
       "    </tr>\n",
       "    <tr>\n",
       "      <th>a1001</th>\n",
       "      <td>1/1/18</td>\n",
       "      <td>House Ads</td>\n",
       "      <td>personalization</td>\n",
       "      <td>English</td>\n",
       "      <td>True</td>\n",
       "      <td>House Ads</td>\n",
       "      <td>1/1/18</td>\n",
       "      <td>NaN</td>\n",
       "      <td>True</td>\n",
       "      <td>19-24 years</td>\n",
       "      <td>English</td>\n",
       "    </tr>\n",
       "    <tr>\n",
       "      <th>a1002</th>\n",
       "      <td>1/1/18</td>\n",
       "      <td>House Ads</td>\n",
       "      <td>personalization</td>\n",
       "      <td>English</td>\n",
       "      <td>True</td>\n",
       "      <td>House Ads</td>\n",
       "      <td>1/1/18</td>\n",
       "      <td>NaN</td>\n",
       "      <td>True</td>\n",
       "      <td>24-30 years</td>\n",
       "      <td>English</td>\n",
       "    </tr>\n",
       "  </tbody>\n",
       "</table>\n",
       "</div>"
      ],
      "text/plain": [
       "        date_served marketing_channel          variant language_displayed  \\\n",
       "user_id                                                                     \n",
       "a1000        1/1/18         House Ads  personalization            English   \n",
       "a1001        1/1/18         House Ads  personalization            English   \n",
       "a1002        1/1/18         House Ads  personalization            English   \n",
       "\n",
       "        converted subscribing_channel date_subscribed date_canceled  \\\n",
       "user_id                                                               \n",
       "a1000        True           House Ads          1/1/18           NaN   \n",
       "a1001        True           House Ads          1/1/18           NaN   \n",
       "a1002        True           House Ads          1/1/18           NaN   \n",
       "\n",
       "        is_retained    age_group language_preferred  \n",
       "user_id                                              \n",
       "a1000          True   0-18 years            English  \n",
       "a1001          True  19-24 years            English  \n",
       "a1002          True  24-30 years            English  "
      ]
     },
     "execution_count": 6,
     "metadata": {},
     "output_type": "execute_result"
    }
   ],
   "source": [
    "dataset.head(3)"
   ]
  },
  {
   "cell_type": "markdown",
   "metadata": {},
   "source": [
    "## Определить типы и статистики колонок."
   ]
  },
  {
   "cell_type": "code",
   "execution_count": 7,
   "metadata": {},
   "outputs": [
    {
     "name": "stdout",
     "output_type": "stream",
     "text": [
      "<class 'pandas.core.frame.DataFrame'>\n",
      "Index: 10037 entries, a1000 to a11036\n",
      "Data columns (total 11 columns):\n",
      " #   Column               Non-Null Count  Dtype \n",
      "---  ------               --------------  ----- \n",
      " 0   date_served          10021 non-null  object\n",
      " 1   marketing_channel    10022 non-null  object\n",
      " 2   variant              10037 non-null  object\n",
      " 3   language_displayed   10037 non-null  object\n",
      " 4   converted            10022 non-null  object\n",
      " 5   subscribing_channel  1856 non-null   object\n",
      " 6   date_subscribed      1856 non-null   object\n",
      " 7   date_canceled        577 non-null    object\n",
      " 8   is_retained          1856 non-null   object\n",
      " 9   age_group            10037 non-null  object\n",
      " 10  language_preferred   10037 non-null  object\n",
      "dtypes: object(11)\n",
      "memory usage: 941.0+ KB\n"
     ]
    }
   ],
   "source": [
    "dataset.info()"
   ]
  },
  {
   "cell_type": "code",
   "execution_count": 11,
   "metadata": {},
   "outputs": [
    {
     "data": {
      "text/html": [
       "<div>\n",
       "<style scoped>\n",
       "    .dataframe tbody tr th:only-of-type {\n",
       "        vertical-align: middle;\n",
       "    }\n",
       "\n",
       "    .dataframe tbody tr th {\n",
       "        vertical-align: top;\n",
       "    }\n",
       "\n",
       "    .dataframe thead th {\n",
       "        text-align: right;\n",
       "    }\n",
       "</style>\n",
       "<table border=\"1\" class=\"dataframe\">\n",
       "  <thead>\n",
       "    <tr style=\"text-align: right;\">\n",
       "      <th></th>\n",
       "      <th>date_served</th>\n",
       "      <th>marketing_channel</th>\n",
       "      <th>variant</th>\n",
       "      <th>language_displayed</th>\n",
       "      <th>converted</th>\n",
       "      <th>subscribing_channel</th>\n",
       "      <th>date_subscribed</th>\n",
       "      <th>date_canceled</th>\n",
       "      <th>is_retained</th>\n",
       "      <th>age_group</th>\n",
       "      <th>language_preferred</th>\n",
       "    </tr>\n",
       "    <tr>\n",
       "      <th>user_id</th>\n",
       "      <th></th>\n",
       "      <th></th>\n",
       "      <th></th>\n",
       "      <th></th>\n",
       "      <th></th>\n",
       "      <th></th>\n",
       "      <th></th>\n",
       "      <th></th>\n",
       "      <th></th>\n",
       "      <th></th>\n",
       "      <th></th>\n",
       "    </tr>\n",
       "  </thead>\n",
       "  <tbody>\n",
       "    <tr>\n",
       "      <th>a1000</th>\n",
       "      <td>1/1/18</td>\n",
       "      <td>House Ads</td>\n",
       "      <td>personalization</td>\n",
       "      <td>English</td>\n",
       "      <td>True</td>\n",
       "      <td>House Ads</td>\n",
       "      <td>1/1/18</td>\n",
       "      <td>NaN</td>\n",
       "      <td>True</td>\n",
       "      <td>0-18 years</td>\n",
       "      <td>English</td>\n",
       "    </tr>\n",
       "    <tr>\n",
       "      <th>a1001</th>\n",
       "      <td>1/1/18</td>\n",
       "      <td>House Ads</td>\n",
       "      <td>personalization</td>\n",
       "      <td>English</td>\n",
       "      <td>True</td>\n",
       "      <td>House Ads</td>\n",
       "      <td>1/1/18</td>\n",
       "      <td>NaN</td>\n",
       "      <td>True</td>\n",
       "      <td>19-24 years</td>\n",
       "      <td>English</td>\n",
       "    </tr>\n",
       "    <tr>\n",
       "      <th>a1002</th>\n",
       "      <td>1/1/18</td>\n",
       "      <td>House Ads</td>\n",
       "      <td>personalization</td>\n",
       "      <td>English</td>\n",
       "      <td>True</td>\n",
       "      <td>House Ads</td>\n",
       "      <td>1/1/18</td>\n",
       "      <td>NaN</td>\n",
       "      <td>True</td>\n",
       "      <td>24-30 years</td>\n",
       "      <td>English</td>\n",
       "    </tr>\n",
       "    <tr>\n",
       "      <th>a1003</th>\n",
       "      <td>1/1/18</td>\n",
       "      <td>House Ads</td>\n",
       "      <td>personalization</td>\n",
       "      <td>English</td>\n",
       "      <td>True</td>\n",
       "      <td>House Ads</td>\n",
       "      <td>1/1/18</td>\n",
       "      <td>NaN</td>\n",
       "      <td>True</td>\n",
       "      <td>30-36 years</td>\n",
       "      <td>English</td>\n",
       "    </tr>\n",
       "    <tr>\n",
       "      <th>a1004</th>\n",
       "      <td>1/1/18</td>\n",
       "      <td>House Ads</td>\n",
       "      <td>personalization</td>\n",
       "      <td>English</td>\n",
       "      <td>True</td>\n",
       "      <td>House Ads</td>\n",
       "      <td>1/1/18</td>\n",
       "      <td>NaN</td>\n",
       "      <td>True</td>\n",
       "      <td>36-45 years</td>\n",
       "      <td>English</td>\n",
       "    </tr>\n",
       "    <tr>\n",
       "      <th>...</th>\n",
       "      <td>...</td>\n",
       "      <td>...</td>\n",
       "      <td>...</td>\n",
       "      <td>...</td>\n",
       "      <td>...</td>\n",
       "      <td>...</td>\n",
       "      <td>...</td>\n",
       "      <td>...</td>\n",
       "      <td>...</td>\n",
       "      <td>...</td>\n",
       "      <td>...</td>\n",
       "    </tr>\n",
       "    <tr>\n",
       "      <th>a11032</th>\n",
       "      <td>1/17/18</td>\n",
       "      <td>Email</td>\n",
       "      <td>control</td>\n",
       "      <td>German</td>\n",
       "      <td>True</td>\n",
       "      <td>Email</td>\n",
       "      <td>1/17/18</td>\n",
       "      <td>1/24/18</td>\n",
       "      <td>False</td>\n",
       "      <td>45-55 years</td>\n",
       "      <td>German</td>\n",
       "    </tr>\n",
       "    <tr>\n",
       "      <th>a11033</th>\n",
       "      <td>1/17/18</td>\n",
       "      <td>Email</td>\n",
       "      <td>control</td>\n",
       "      <td>German</td>\n",
       "      <td>True</td>\n",
       "      <td>Email</td>\n",
       "      <td>1/17/18</td>\n",
       "      <td>NaN</td>\n",
       "      <td>True</td>\n",
       "      <td>55+ years</td>\n",
       "      <td>German</td>\n",
       "    </tr>\n",
       "    <tr>\n",
       "      <th>a11034</th>\n",
       "      <td>1/5/18</td>\n",
       "      <td>Instagram</td>\n",
       "      <td>control</td>\n",
       "      <td>German</td>\n",
       "      <td>False</td>\n",
       "      <td>Email</td>\n",
       "      <td>1/17/18</td>\n",
       "      <td>NaN</td>\n",
       "      <td>True</td>\n",
       "      <td>55+ years</td>\n",
       "      <td>German</td>\n",
       "    </tr>\n",
       "    <tr>\n",
       "      <th>a11035</th>\n",
       "      <td>1/17/18</td>\n",
       "      <td>Email</td>\n",
       "      <td>control</td>\n",
       "      <td>German</td>\n",
       "      <td>True</td>\n",
       "      <td>Email</td>\n",
       "      <td>1/17/18</td>\n",
       "      <td>NaN</td>\n",
       "      <td>True</td>\n",
       "      <td>0-18 years</td>\n",
       "      <td>German</td>\n",
       "    </tr>\n",
       "    <tr>\n",
       "      <th>a11036</th>\n",
       "      <td>1/6/18</td>\n",
       "      <td>Facebook</td>\n",
       "      <td>control</td>\n",
       "      <td>German</td>\n",
       "      <td>False</td>\n",
       "      <td>Email</td>\n",
       "      <td>1/17/18</td>\n",
       "      <td>NaN</td>\n",
       "      <td>True</td>\n",
       "      <td>0-18 years</td>\n",
       "      <td>German</td>\n",
       "    </tr>\n",
       "  </tbody>\n",
       "</table>\n",
       "<p>10037 rows × 11 columns</p>\n",
       "</div>"
      ],
      "text/plain": [
       "        date_served marketing_channel          variant language_displayed  \\\n",
       "user_id                                                                     \n",
       "a1000        1/1/18         House Ads  personalization            English   \n",
       "a1001        1/1/18         House Ads  personalization            English   \n",
       "a1002        1/1/18         House Ads  personalization            English   \n",
       "a1003        1/1/18         House Ads  personalization            English   \n",
       "a1004        1/1/18         House Ads  personalization            English   \n",
       "...             ...               ...              ...                ...   \n",
       "a11032      1/17/18             Email          control             German   \n",
       "a11033      1/17/18             Email          control             German   \n",
       "a11034       1/5/18         Instagram          control             German   \n",
       "a11035      1/17/18             Email          control             German   \n",
       "a11036       1/6/18          Facebook          control             German   \n",
       "\n",
       "        converted subscribing_channel date_subscribed date_canceled  \\\n",
       "user_id                                                               \n",
       "a1000        True           House Ads          1/1/18           NaN   \n",
       "a1001        True           House Ads          1/1/18           NaN   \n",
       "a1002        True           House Ads          1/1/18           NaN   \n",
       "a1003        True           House Ads          1/1/18           NaN   \n",
       "a1004        True           House Ads          1/1/18           NaN   \n",
       "...           ...                 ...             ...           ...   \n",
       "a11032       True               Email         1/17/18       1/24/18   \n",
       "a11033       True               Email         1/17/18           NaN   \n",
       "a11034      False               Email         1/17/18           NaN   \n",
       "a11035       True               Email         1/17/18           NaN   \n",
       "a11036      False               Email         1/17/18           NaN   \n",
       "\n",
       "        is_retained    age_group language_preferred  \n",
       "user_id                                              \n",
       "a1000          True   0-18 years            English  \n",
       "a1001          True  19-24 years            English  \n",
       "a1002          True  24-30 years            English  \n",
       "a1003          True  30-36 years            English  \n",
       "a1004          True  36-45 years            English  \n",
       "...             ...          ...                ...  \n",
       "a11032        False  45-55 years             German  \n",
       "a11033         True    55+ years             German  \n",
       "a11034         True    55+ years             German  \n",
       "a11035         True   0-18 years             German  \n",
       "a11036         True   0-18 years             German  \n",
       "\n",
       "[10037 rows x 11 columns]"
      ]
     },
     "execution_count": 11,
     "metadata": {},
     "output_type": "execute_result"
    }
   ],
   "source": [
    "dataset"
   ]
  },
  {
   "cell_type": "code",
   "execution_count": 8,
   "metadata": {},
   "outputs": [
    {
     "data": {
      "text/html": [
       "<div>\n",
       "<style scoped>\n",
       "    .dataframe tbody tr th:only-of-type {\n",
       "        vertical-align: middle;\n",
       "    }\n",
       "\n",
       "    .dataframe tbody tr th {\n",
       "        vertical-align: top;\n",
       "    }\n",
       "\n",
       "    .dataframe thead th {\n",
       "        text-align: right;\n",
       "    }\n",
       "</style>\n",
       "<table border=\"1\" class=\"dataframe\">\n",
       "  <thead>\n",
       "    <tr style=\"text-align: right;\">\n",
       "      <th></th>\n",
       "      <th>date_served</th>\n",
       "      <th>marketing_channel</th>\n",
       "      <th>variant</th>\n",
       "      <th>language_displayed</th>\n",
       "      <th>converted</th>\n",
       "      <th>subscribing_channel</th>\n",
       "      <th>date_subscribed</th>\n",
       "      <th>date_canceled</th>\n",
       "      <th>is_retained</th>\n",
       "      <th>age_group</th>\n",
       "      <th>language_preferred</th>\n",
       "    </tr>\n",
       "  </thead>\n",
       "  <tbody>\n",
       "    <tr>\n",
       "      <th>count</th>\n",
       "      <td>10021</td>\n",
       "      <td>10022</td>\n",
       "      <td>10037</td>\n",
       "      <td>10037</td>\n",
       "      <td>10022</td>\n",
       "      <td>1856</td>\n",
       "      <td>1856</td>\n",
       "      <td>577</td>\n",
       "      <td>1856</td>\n",
       "      <td>10037</td>\n",
       "      <td>10037</td>\n",
       "    </tr>\n",
       "    <tr>\n",
       "      <th>unique</th>\n",
       "      <td>31</td>\n",
       "      <td>5</td>\n",
       "      <td>2</td>\n",
       "      <td>4</td>\n",
       "      <td>2</td>\n",
       "      <td>5</td>\n",
       "      <td>31</td>\n",
       "      <td>115</td>\n",
       "      <td>2</td>\n",
       "      <td>7</td>\n",
       "      <td>4</td>\n",
       "    </tr>\n",
       "    <tr>\n",
       "      <th>top</th>\n",
       "      <td>1/15/18</td>\n",
       "      <td>House Ads</td>\n",
       "      <td>control</td>\n",
       "      <td>English</td>\n",
       "      <td>False</td>\n",
       "      <td>Instagram</td>\n",
       "      <td>1/16/18</td>\n",
       "      <td>4/2/18</td>\n",
       "      <td>True</td>\n",
       "      <td>19-24 years</td>\n",
       "      <td>English</td>\n",
       "    </tr>\n",
       "    <tr>\n",
       "      <th>freq</th>\n",
       "      <td>789</td>\n",
       "      <td>4733</td>\n",
       "      <td>5091</td>\n",
       "      <td>9793</td>\n",
       "      <td>8946</td>\n",
       "      <td>600</td>\n",
       "      <td>163</td>\n",
       "      <td>15</td>\n",
       "      <td>1279</td>\n",
       "      <td>1682</td>\n",
       "      <td>9275</td>\n",
       "    </tr>\n",
       "  </tbody>\n",
       "</table>\n",
       "</div>"
      ],
      "text/plain": [
       "       date_served marketing_channel  variant language_displayed converted  \\\n",
       "count        10021             10022    10037              10037     10022   \n",
       "unique          31                 5        2                  4         2   \n",
       "top        1/15/18         House Ads  control            English     False   \n",
       "freq           789              4733     5091               9793      8946   \n",
       "\n",
       "       subscribing_channel date_subscribed date_canceled is_retained  \\\n",
       "count                 1856            1856           577        1856   \n",
       "unique                   5              31           115           2   \n",
       "top              Instagram         1/16/18        4/2/18        True   \n",
       "freq                   600             163            15        1279   \n",
       "\n",
       "          age_group language_preferred  \n",
       "count         10037              10037  \n",
       "unique            7                  4  \n",
       "top     19-24 years            English  \n",
       "freq           1682               9275  "
      ]
     },
     "execution_count": 8,
     "metadata": {},
     "output_type": "execute_result"
    }
   ],
   "source": [
    "dataset.describe()"
   ]
  },
  {
   "cell_type": "markdown",
   "metadata": {},
   "source": [
    "Все колонки, кроме `is_retained` и `converted`, - это категориальные фичи. `is_retained` и `converted` в свою очередь бинарные"
   ]
  },
  {
   "cell_type": "markdown",
   "metadata": {},
   "source": [
    "## Определить эффективность маркетинговых каналов по привлечению платящих игроков."
   ]
  },
  {
   "cell_type": "markdown",
   "metadata": {},
   "source": [
    "## Определить количество игроков в каждой возрастной группе"
   ]
  },
  {
   "cell_type": "markdown",
   "metadata": {},
   "source": [
    "## Определить самую раннюю дату подписки на сервис"
   ]
  },
  {
   "cell_type": "markdown",
   "metadata": {},
   "source": [
    "## Определить портрет аудитории удержанных подписчиков (по возрасту и языку)."
   ]
  },
  {
   "cell_type": "markdown",
   "metadata": {},
   "source": [
    "## Проверить гипотезу о том, в каком варианте теста (control/personalization) больше конверсия (converted) и значимо ли это отличие статистически"
   ]
  },
  {
   "cell_type": "markdown",
   "metadata": {},
   "source": [
    "# Задание 2"
   ]
  },
  {
   "cell_type": "markdown",
   "metadata": {},
   "source": [
    "Цех может производить стулья и столы. На производство стула идет 5 единиц материала, на производство стола - 20 единиц (футов красного дерева). Стул требует 10 человеко-часов, стол - 15. Имеется 400 единиц материала и 450 человеко-часов. Прибыль при производстве стула - 45 долларов США, при производстве стола - 80 долларов США. Сколько надо сделать стульев и столов, чтобы получить максимальную прибыль?"
   ]
  },
  {
   "cell_type": "markdown",
   "metadata": {},
   "source": [
    "> Решение\n",
    "\n",
    "Пусть:\n",
    "\n",
    "- x - количество произведенных стульев\n",
    "\n",
    "- y - количество произведенных столов\n",
    "\n",
    "У нас есть ограничения:\n",
    "- 5x + 20y <= 400 (ограничение по материалам)\n",
    "- 10x + 15y <= 450 (ограничение по человеко-часам)\n",
    "\n",
    "Надо найти такие x, y, что 45x + 80y -> max при заданных условиях.\n"
   ]
  },
  {
   "cell_type": "code",
   "execution_count": 17,
   "metadata": {},
   "outputs": [
    {
     "name": "stdout",
     "output_type": "stream",
     "text": [
      "Результат:\n",
      "Количество стульев: 24\n",
      "Количество столов: 14\n",
      "Максимальная прибыль: 2200.0\n"
     ]
    }
   ],
   "source": [
    "# Целевая функция (коэффициенты при переменных)\n",
    "c = [-45, -80]\n",
    "\n",
    "# Ограничения-неравенства (коэффициенты при переменных слева от знака <=)\n",
    "A = [[5, 20], [10, 15]]\n",
    "b = [400, 450]\n",
    "\n",
    "# Границы переменных (нижняя и верхняя границы для каждой переменной)\n",
    "x0_bounds = (0, None)  # для x (количество стульев)\n",
    "x1_bounds = (0, None)  # для y (количество столов)\n",
    "\n",
    "# Решаем задачу линейного программирования\n",
    "res = linprog(c, A_ub=A, b_ub=b, bounds=[x0_bounds, x1_bounds], method='highs')\n",
    "\n",
    "# Выводим результаты\n",
    "print(\"Результат:\")\n",
    "print(f\"Количество стульев: {int(res.x[0])}\", )\n",
    "print(f\"Количество столов: {int(res.x[1])}\")\n",
    "print(f\"Максимальная прибыль: {-res.fun}\")"
   ]
  },
  {
   "cell_type": "markdown",
   "metadata": {},
   "source": [
    "# Задание 3 "
   ]
  },
  {
   "cell_type": "markdown",
   "metadata": {},
   "source": [
    "Средний накопленный доход на пользователя с сайта (cumulative ARPU) составил: day1 0.4$, day3 0.6$, day7 0.8$, day14 1.10$ , day21 1.30$, day30 1.40$. Подберите аппроксимирующую кривую и сделайте прогноз, сколько в среднем принесет денег пользователь на 90й день. Обоснуйте выбор одной из аппроксимирующей кривой вида: y = ab^x или y = aln(x) + b."
   ]
  },
  {
   "cell_type": "code",
   "execution_count": 20,
   "metadata": {},
   "outputs": [
    {
     "name": "stdout",
     "output_type": "stream",
     "text": [
      "Прогноз с использованием экспоненциальной кривой: 9.872703618978317\n"
     ]
    }
   ],
   "source": [
    "import numpy as np\n",
    "from scipy.optimize import curve_fit\n",
    "\n",
    "# Данные\n",
    "days = np.array([1, 3, 7, 14, 21, 30])\n",
    "revenue = np.array([0.4, 0.6, 0.8, 1.10, 1.30, 1.40])\n",
    "\n",
    "# Функция для аппроксимации (y = ab^x)\n",
    "def exponential_func(x, a, b):\n",
    "    return a * (b ** x)\n",
    "\n",
    "# Аппроксимация данных\n",
    "popt_exp, pcov_exp = curve_fit(exponential_func, days, revenue)\n",
    "\n",
    "# Прогноз на 90-й день\n",
    "revenue_90 = exponential_func(90, *popt_exp)\n",
    "print(\"Прогноз с использованием экспоненциальной кривой:\", revenue_90)"
   ]
  },
  {
   "cell_type": "code",
   "execution_count": 21,
   "metadata": {},
   "outputs": [
    {
     "name": "stdout",
     "output_type": "stream",
     "text": [
      "Прогноз с использованием логарифмической кривой: 1.687325756038148\n"
     ]
    }
   ],
   "source": [
    "# Функция для аппроксимации (y = aln(x) + b)\n",
    "def logarithmic_func(x, a, b):\n",
    "    return a * np.log(x) + b\n",
    "\n",
    "# Аппроксимация данных\n",
    "popt_log, pcov_log = curve_fit(logarithmic_func, days, revenue)\n",
    "\n",
    "# Прогноз на 90-й день\n",
    "revenue_90_log = logarithmic_func(90, *popt_log)\n",
    "print(\"Прогноз с использованием логарифмической кривой:\", revenue_90_log)"
   ]
  },
  {
   "cell_type": "code",
   "execution_count": 24,
   "metadata": {},
   "outputs": [
    {
     "data": {
      "image/png": "[encoded data removed]",
      "text/plain": [
       "<Figure size 432x288 with 1 Axes>"
      ]
     },
     "metadata": {
      "needs_background": "light"
     },
     "output_type": "display_data"
    }
   ],
   "source": [
    "# Истинные значения\n",
    "plt.scatter(days, revenue, label='Истинные значения')\n",
    "\n",
    "# Аппроксимирующая экспоненциальная прямая\n",
    "plt.plot(days, exponential_func(days, *popt_exp), label='Экспоненциальная кривая', color='r')\n",
    "\n",
    "# Аппроксимирующая логарифмическая прямая\n",
    "plt.plot(days, logarithmic_func(days, *popt_log), label='Логарифмическая кривая', color='g')\n",
    "\n",
    "# Настройки графика\n",
    "plt.title('Аппроксимация данных')\n",
    "plt.xlabel('Дни')\n",
    "plt.ylabel('Доход')\n",
    "plt.legend()\n",
    "plt.show()\n"
   ]
  },
  {
   "cell_type": "markdown",
   "metadata": {},
   "source": [
    "Кажется, что логарифмическая кривая лучше отражает суть процесса. поэтому для предсказания на 90й день будем использовать именно её, то есть на 90й день доход будет 1.687"
   ]
  },
  {
   "cell_type": "markdown",
   "metadata": {},
   "source": []
  }
 ],
 "metadata": {
  "kernelspec": {
   "display_name": "universal_env",
   "language": "python",
   "name": "python3"
  },
  "language_info": {
   "codemirror_mode": {
    "name": "ipython",
    "version": 3
   },
   "file_extension": ".py",
   "mimetype": "text/x-python",
   "name": "python",
   "nbconvert_exporter": "python",
   "pygments_lexer": "ipython3",
   "version": "3.9.15"
  }
 },
 "nbformat": 4,
 "nbformat_minor": 2
}
